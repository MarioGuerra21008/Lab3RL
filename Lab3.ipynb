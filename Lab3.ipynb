{
 "cells": [
  {
   "cell_type": "markdown",
   "id": "e75f95bc",
   "metadata": {},
   "source": [
    "<table style=\"width:100%; border-collapse: collapse;\">\n",
    "  <tr>\n",
    "    <td style=\"width:20%; vertical-align:middle;\">\n",
    "      <img src=\"LogoUVG.png\" width=\"400\"/>\n",
    "    </td>\n",
    "    <td style=\"text-align:left; vertical-align:middle;\">\n",
    "      <h2 style=\"margin-bottom: 0;\">Universidad del Valle de Guatemala - UVG</h2>\n",
    "      <h3 style=\"margin-top: 0;\">Facultad de Ingeniería - Computación</h3>\n",
    "      <p style=\"font-size: 16px; margin-bottom: 0; margin-top: -20px\">\n",
    "        <strong>Curso:</strong> CC3104 - Aprendizaje por Refuerzo \n",
    "        <strong>Sección:</strong> 10\n",
    "      </p>\n",
    "      <p style=\"font-size: 16px; margin: 0;\"><strong>Laboratorio 3:</strong> MDP</p>\n",
    "      <br>\n",
    "      <p style=\"font-size: 15px; margin: 0;\"><strong>Autores:</strong></p>\n",
    "      <ul style=\"margin-top: 5px; padding-left: 20px; font-size: 15px;\">\n",
    "        <li>Diego Alexander Hernández Silvestre - <strong>21270</strong></li>\n",
    "        <li>Linda Inés Jiménez Vides - <strong>21169</strong></li>\n",
    "        <li>Mario Antonio Guerra Morales - <strong>21008</strong></li>\n",
    "      </ul>\n",
    "    </td>\n",
    "  </tr>\n",
    "</table>"
   ]
  },
  {
   "cell_type": "markdown",
   "id": "d3efa3ce",
   "metadata": {},
   "source": [
    "## 📝 Task 1\n",
    "Responda a cada de las siguientes preguntas de forma clara y lo más completamente posible.\n",
    "1. ¿Qué es Programación Dinámica y cómo se relaciona con RL?\n",
    "\n",
    "- \n",
    "\n",
    "2. Explique en sus propias palabras el algoritmo de Iteración de Póliza.\n",
    "\n",
    "- \n",
    "\n",
    "3. Explique en sus propias palabras el algoritmo de Iteración de Valor.\n",
    "\n",
    "- \n",
    "\n",
    "4. En el laboratorio pasado, vimos que el valor de los premios obtenidos se mantienen constantes, ¿por qué?"
   ]
  },
  {
   "attachments": {
    "image.png": {
     "image/png": "[encoded data removed]"
    }
   },
   "cell_type": "markdown",
   "id": "6349820d",
   "metadata": {},
   "source": [
    "## 📝 Task 2\n",
    "\n",
    "El objetivo principal de este ejercicio es que simule un MDP que represente un robot que navega por un laberinto de cuadrículas de 3x3 y evalúe una política determinada. Por ello considere, a un robot navega por un laberinto de cuadrícula de 3x3. El robot puede moverse en cuatro direcciones: arriba, abajo, izquierda y derecha. El objetivo es navegar desde la posición inicial hasta la posición de meta evitando obstáculos. El robot recibe una recompensa cuando alcanza la meta y una penalización si choca con un obstáculo.\n",
    "\n",
    "El laberinto es el siguiente:\n",
    "\n",
    "![image.png](attachment:image.png)\n",
    "\n",
    "Donde:\n",
    "\n",
    "● S = punto de inicio\n",
    "\n",
    "● G = punto de meta\n",
    "\n",
    "● X = son obstáculos\n",
    "\n",
    "Instrucciones:\n",
    "\n",
    "● Defina los componentes del MDP:\n",
    "\n",
    "○ Estados: S = {0, 1, 2, 3, 4, 5, 6, 7, 8}, donde cada número representa una celda del laberinto.\n",
    "\n",
    "○ Acciones: A = {arriba, abajo, izquierda, derecha}\n",
    "\n",
    "○ Probabilidades de transición: P(s' | s, a)\n",
    "\n",
    "○ Recompensas: R(s, a, s')\n",
    "\n",
    "\n"
   ]
  },
  {
   "cell_type": "code",
   "execution_count": null,
   "id": "7b5ae27d",
   "metadata": {},
   "outputs": [],
   "source": []
  },
  {
   "cell_type": "markdown",
   "id": "effb6a76",
   "metadata": {},
   "source": [
    "Matriz de transición:\n",
    "\n",
    "○ Defina las probabilidades de transición P como un diccionario donde P[s][a] asigna los siguientes estados s' a sus probabilidades."
   ]
  },
  {
   "cell_type": "code",
   "execution_count": null,
   "id": "2779cacd",
   "metadata": {},
   "outputs": [],
   "source": []
  },
  {
   "cell_type": "markdown",
   "id": "22251c5d",
   "metadata": {},
   "source": [
    "Función de recompensa:\n",
    "\n",
    "○ Defina las recompensas R como un diccionario donde R[s][a][s'] da la recompensa por la transición del estado s al estado s' mediante la acción a."
   ]
  },
  {
   "cell_type": "code",
   "execution_count": null,
   "id": "46e2c845",
   "metadata": {},
   "outputs": [],
   "source": []
  },
  {
   "cell_type": "markdown",
   "id": "71d65d9d",
   "metadata": {},
   "source": [
    "Inicializar función de valor:\n",
    "\n",
    "○ Inicialice la función de valor V para todos los estados en 0."
   ]
  },
  {
   "cell_type": "code",
   "execution_count": null,
   "id": "2983635f",
   "metadata": {},
   "outputs": [],
   "source": []
  },
  {
   "cell_type": "markdown",
   "id": "36cab64f",
   "metadata": {},
   "source": [
    "Algoritmo de iteración de valor:\n",
    "\n",
    "○ Implemente el algoritmo de iteración de valores para actualizar la función de valor V y encontrar la política óptima.\n",
    "\n",
    "○ Usa un factor de descuento 𝛾 de 0,9.\n",
    "\n",
    "○ La iteración debe detenerse cuando el cambio máximo en la función de valor sea menor que un umbral (por ejemplo, 0,001)."
   ]
  },
  {
   "cell_type": "code",
   "execution_count": null,
   "id": "941418d7",
   "metadata": {},
   "outputs": [],
   "source": []
  },
  {
   "cell_type": "markdown",
   "id": "3683a139",
   "metadata": {},
   "source": [
    "Extraiga la política óptima de la iteración de valor:\n",
    "\n",
    "○ Después de converger, extraiga la política óptima de la función de valor."
   ]
  },
  {
   "cell_type": "code",
   "execution_count": null,
   "id": "9bbd81f4",
   "metadata": {},
   "outputs": [],
   "source": []
  },
  {
   "cell_type": "markdown",
   "id": "43c6cf14",
   "metadata": {},
   "source": [
    "Algoritmo de iteración de políticas:\n",
    "\n",
    "○ Implemente el algoritmo de iteración de políticas para encontrar la política óptima.\n",
    "\n",
    "○ Inicialice una política aleatoria.\n",
    "\n",
    "○ Evaluación de políticas: evalúe la política actual para encontrar la función de valor.\n",
    "\n",
    "○ Mejora de la política: actualice la política en función de la función de valor.\n",
    "\n",
    "○ La iteración debería detenerse cuando la política ya no cambie.\n"
   ]
  }
 ],
 "metadata": {
  "kernelspec": {
   "display_name": ".venv",
   "language": "python",
   "name": "python3"
  },
  "language_info": {
   "name": "python",
   "version": "3.12.5"
  }
 },
 "nbformat": 4,
 "nbformat_minor": 5
}
