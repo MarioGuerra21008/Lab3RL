{
 "cells": [
  {
   "cell_type": "markdown",
   "id": "e75f95bc",
   "metadata": {},
   "source": [
    "<table style=\"width:100%; border-collapse: collapse;\">\n",
    "  <tr>\n",
    "    <td style=\"width:20%; vertical-align:middle;\">\n",
    "      <img src=\"LogoUVG.png\" width=\"400\"/>\n",
    "    </td>\n",
    "    <td style=\"text-align:left; vertical-align:middle;\">\n",
    "      <h2 style=\"margin-bottom: 0;\">Universidad del Valle de Guatemala - UVG</h2>\n",
    "      <h3 style=\"margin-top: 0;\">Facultad de Ingeniería - Computación</h3>\n",
    "      <p style=\"font-size: 16px; margin-bottom: 0; margin-top: -20px\">\n",
    "        <strong>Curso:</strong> CC3104 - Aprendizaje por Refuerzo \n",
    "        <strong>Sección:</strong> 10\n",
    "      </p>\n",
    "      <p style=\"font-size: 16px; margin: 0;\"><strong>Laboratorio 3:</strong> MDP</p>\n",
    "      <br>\n",
    "      <p style=\"font-size: 15px; margin: 0;\"><strong>Autores:</strong></p>\n",
    "      <ul style=\"margin-top: 5px; padding-left: 20px; font-size: 15px;\">\n",
    "        <li>Diego Alexander Hernández Silvestre - <strong>21270</strong></li>\n",
    "        <li>Linda Inés Jiménez Vides - <strong>21169</strong></li>\n",
    "        <li>Mario Antonio Guerra Morales - <strong>21008</strong></li>\n",
    "      </ul>\n",
    "    </td>\n",
    "  </tr>\n",
    "</table>"
   ]
  },
  {
   "cell_type": "markdown",
   "id": "d3efa3ce",
   "metadata": {},
   "source": [
    "## 📝 Task 1\n",
    "Responda a cada de las siguientes preguntas de forma clara y lo más completamente posible.\n",
    "1. ¿Qué es Programación Dinámica y cómo se relaciona con RL?\n",
    "\n",
    "- \n",
    "\n",
    "2. Explique en sus propias palabras el algoritmo de Iteración de Póliza.\n",
    "\n",
    "- \n",
    "\n",
    "3. Explique en sus propias palabras el algoritmo de Iteración de Valor.\n",
    "\n",
    "- \n",
    "\n",
    "4. En el laboratorio pasado, vimos que el valor de los premios obtenidos se mantienen constantes, ¿por qué?"
   ]
  },
  {
   "attachments": {
    "image.png": {
     "image/png": "[encoded data removed]"
    }
   },
   "cell_type": "markdown",
   "id": "6349820d",
   "metadata": {},
   "source": [
    "## 📝 Task 2\n",
    "\n",
    "El objetivo principal de este ejercicio es que simule un MDP que represente un robot que navega por un laberinto de cuadrículas de 3x3 y evalúe una política determinada. Por ello considere, a un robot navega por un laberinto de cuadrícula de 3x3. El robot puede moverse en cuatro direcciones: arriba, abajo, izquierda y derecha. El objetivo es navegar desde la posición inicial hasta la posición de meta evitando obstáculos. El robot recibe una recompensa cuando alcanza la meta y una penalización si choca con un obstáculo.\n",
    "\n",
    "El laberinto es el siguiente:\n",
    "\n",
    "![image.png](attachment:image.png)\n",
    "\n",
    "Donde:\n",
    "\n",
    "● S = punto de inicio\n",
    "\n",
    "● G = punto de meta\n",
    "\n",
    "● X = son obstáculos\n",
    "\n",
    "Instrucciones:\n",
    "\n",
    "● Defina los componentes del MDP:\n",
    "\n",
    "○ Estados: S = {0, 1, 2, 3, 4, 5, 6, 7, 8}, donde cada número representa una celda del laberinto.\n",
    "\n",
    "○ Acciones: A = {arriba, abajo, izquierda, derecha}\n",
    "\n",
    "○ Probabilidades de transición: P(s' | s, a)\n",
    "\n",
    "○ Recompensas: R(s, a, s')\n",
    "\n",
    "\n"
   ]
  },
  {
   "cell_type": "code",
   "execution_count": 1,
   "id": "7b5ae27d",
   "metadata": {},
   "outputs": [],
   "source": [
    "import numpy as np\n",
    "\n",
    "states = list(range(9)) # Lista de estados\n",
    "actions = ['up', 'down', 'left', 'right'] # Acciones que puede realizar.\n",
    "start_state = 0 # Estado inicial\n",
    "goal_state = 8 # Estado final\n",
    "obstacles = [2, 4] # Obstáculos\n",
    "\n",
    "def state_to_coords(state):\n",
    "    return (state // 3, state % 3)\n",
    "\n",
    "def coords_to_state(row, col):\n",
    "    return row * 3 + col\n",
    "\n",
    "P = {} # Probabilidades de transición\n",
    "R = {} # Recompensas"
   ]
  },
  {
   "cell_type": "markdown",
   "id": "effb6a76",
   "metadata": {},
   "source": [
    "Matriz de transición:\n",
    "\n",
    "○ Defina las probabilidades de transición P como un diccionario donde P[s][a] asigna los siguientes estados s' a sus probabilidades."
   ]
  },
  {
   "cell_type": "code",
   "execution_count": 2,
   "id": "2779cacd",
   "metadata": {},
   "outputs": [],
   "source": [
    "for s in states:\n",
    "    if s in obstacles or s == goal_state:\n",
    "        continue\n",
    "    P[s] = {}\n",
    "    row, col = state_to_coords(s)\n",
    "\n",
    "    for a in actions:\n",
    "        P[s][a] = {}\n",
    "        next_row, next_col = row, col\n",
    "\n",
    "        if a == 'up': next_row -= 1\n",
    "        elif a == 'down': next_row += 1\n",
    "        elif a == 'left': next_col -= 1\n",
    "        elif a == 'right': next_col += 1\n",
    "\n",
    "        if 0 <= next_row < 3 and 0 <= next_col < 3:\n",
    "            s_prime = coords_to_state(next_row, next_col)\n",
    "            if s_prime in obstacles:\n",
    "                s_prime = s  # rebota\n",
    "        else:\n",
    "            s_prime = s  # rebota\n",
    "\n",
    "        P[s][a][s_prime] = 1.0"
   ]
  },
  {
   "cell_type": "markdown",
   "id": "22251c5d",
   "metadata": {},
   "source": [
    "Función de recompensa:\n",
    "\n",
    "○ Defina las recompensas R como un diccionario donde R[s][a][s'] da la recompensa por la transición del estado s al estado s' mediante la acción a."
   ]
  },
  {
   "cell_type": "code",
   "execution_count": 3,
   "id": "46e2c845",
   "metadata": {},
   "outputs": [],
   "source": [
    "for s in states:\n",
    "    if s in obstacles or s == goal_state:\n",
    "        continue\n",
    "    R[s] = {}\n",
    "    row, col = state_to_coords(s)\n",
    "\n",
    "    for a in actions:\n",
    "        R[s][a] = {}\n",
    "\n",
    "        next_row, next_col = row, col\n",
    "        if a == 'up': next_row -= 1\n",
    "        elif a == 'down': next_row += 1\n",
    "        elif a == 'left': next_col -= 1\n",
    "        elif a == 'right': next_col += 1\n",
    "\n",
    "        if 0 <= next_row < 3 and 0 <= next_col < 3:\n",
    "            s_prime = coords_to_state(next_row, next_col)\n",
    "            if s_prime in obstacles:\n",
    "                s_prime = s\n",
    "                reward = -1\n",
    "            elif s_prime == goal_state:\n",
    "                reward = 10\n",
    "            else:\n",
    "                reward = -0.1\n",
    "        else:\n",
    "            s_prime = s\n",
    "            reward = -1\n",
    "\n",
    "        R[s][a][s_prime] = reward"
   ]
  },
  {
   "cell_type": "markdown",
   "id": "71d65d9d",
   "metadata": {},
   "source": [
    "Inicializar función de valor:\n",
    "\n",
    "○ Inicialice la función de valor V para todos los estados en 0."
   ]
  },
  {
   "cell_type": "code",
   "execution_count": 4,
   "id": "2983635f",
   "metadata": {},
   "outputs": [
    {
     "name": "stdout",
     "output_type": "stream",
     "text": [
      "[[0. 0. 0.]\n",
      " [0. 0. 0.]\n",
      " [0. 0. 0.]]\n"
     ]
    }
   ],
   "source": [
    "V = np.zeros(len(states))\n",
    "print(V.reshape((3, 3)))"
   ]
  },
  {
   "cell_type": "markdown",
   "id": "36cab64f",
   "metadata": {},
   "source": [
    "Algoritmo de iteración de valor:\n",
    "\n",
    "○ Implemente el algoritmo de iteración de valores para actualizar la función de valor V y encontrar la política óptima.\n",
    "\n",
    "○ Usa un factor de descuento 𝛾 de 0,9.\n",
    "\n",
    "○ La iteración debe detenerse cuando el cambio máximo en la función de valor sea menor que un umbral (por ejemplo, 0,001)."
   ]
  },
  {
   "cell_type": "code",
   "execution_count": 5,
   "id": "941418d7",
   "metadata": {},
   "outputs": [],
   "source": [
    "gamma = 0.9\n",
    "theta = 0.001\n",
    "\n",
    "def value_iteration():\n",
    "    V = np.zeros(len(states))\n",
    "    policy = np.array([\"\"] * len(states))\n",
    "    while True:\n",
    "        delta = 0\n",
    "        for s in states:\n",
    "            if s in obstacles or s == goal_state:\n",
    "                continue\n",
    "            v = V[s]\n",
    "            max_value = float('-inf')\n",
    "            best_action = None\n",
    "            for a in actions:\n",
    "                total = 0\n",
    "                for s_prime in P[s][a]:\n",
    "                    total += P[s][a][s_prime] * (R[s][a][s_prime] + gamma * V[s_prime])\n",
    "                if total > max_value:\n",
    "                    max_value = total\n",
    "                    best_action = a\n",
    "            V[s] = max_value\n",
    "            policy[s] = best_action\n",
    "            delta = max(delta, abs(v - V[s]))\n",
    "        if delta < theta:\n",
    "            break\n",
    "    return V, policy"
   ]
  },
  {
   "cell_type": "markdown",
   "id": "3683a139",
   "metadata": {},
   "source": [
    "Extraiga la política óptima de la iteración de valor:\n",
    "\n",
    "○ Después de converger, extraiga la política óptima de la función de valor."
   ]
  },
  {
   "cell_type": "code",
   "execution_count": null,
   "id": "9bbd81f4",
   "metadata": {},
   "outputs": [
    {
     "name": "stdout",
     "output_type": "stream",
     "text": [
      "🔹 Función de valor óptima (VI):\n",
      "[[ 7.019   6.2171  0.    ]\n",
      " [ 7.91    0.     10.    ]\n",
      " [ 8.9    10.      0.    ]]\n",
      "\n",
      "🔸 Política óptima (VI):\n",
      "[['d' 'l' '']\n",
      " ['d' '' 'd']\n",
      " ['r' 'r' '']]\n"
     ]
    }
   ],
   "source": [
    "V_vi, policy_vi = value_iteration()\n",
    "\n",
    "print(\"Función de valor óptima (VI):\")\n",
    "print(V_vi.reshape((3, 3)))\n",
    "\n",
    "print(\"Política óptima (VI):\")\n",
    "print(policy_vi.reshape((3, 3)))"
   ]
  },
  {
   "cell_type": "markdown",
   "id": "43c6cf14",
   "metadata": {},
   "source": [
    "Algoritmo de iteración de políticas:\n",
    "\n",
    "○ Implemente el algoritmo de iteración de políticas para encontrar la política óptima.\n",
    "\n",
    "○ Inicialice una política aleatoria.\n",
    "\n",
    "○ Evaluación de políticas: evalúe la política actual para encontrar la función de valor.\n",
    "\n",
    "○ Mejora de la política: actualice la política en función de la función de valor.\n",
    "\n",
    "○ La iteración debería detenerse cuando la política ya no cambie.\n"
   ]
  },
  {
   "cell_type": "code",
   "execution_count": null,
   "id": "12cec2b2",
   "metadata": {},
   "outputs": [],
   "source": [
    "# Código aquí"
   ]
  }
 ],
 "metadata": {
  "kernelspec": {
   "display_name": ".venv",
   "language": "python",
   "name": "python3"
  },
  "language_info": {
   "codemirror_mode": {
    "name": "ipython",
    "version": 3
   },
   "file_extension": ".py",
   "mimetype": "text/x-python",
   "name": "python",
   "nbconvert_exporter": "python",
   "pygments_lexer": "ipython3",
   "version": "3.12.5"
  }
 },
 "nbformat": 4,
 "nbformat_minor": 5
}
